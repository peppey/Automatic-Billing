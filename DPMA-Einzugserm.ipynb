{
 "cells": [
  {
   "cell_type": "code",
   "execution_count": 1,
   "metadata": {},
   "outputs": [],
   "source": [
    "import pandas as pd\n",
    "data = pd.read_csv('PIA.asc', encoding='cp850')\n",
    "from datetime import date"
   ]
  },
  {
   "cell_type": "code",
   "execution_count": null,
   "metadata": {},
   "outputs": [],
   "source": [
    "# Leere Einträge auf \"\" setzen\n",
    "for i in range(len(data.columns)):\n",
    "    if \"Unnamed\" in data.columns[i]:\n",
    "        data.columns.values[i] = \"\"  \n",
    "        \n",
    "data.columns"
   ]
  },
  {
   "cell_type": "code",
   "execution_count": null,
   "metadata": {},
   "outputs": [],
   "source": [
    "from PyPDF2 import PdfFileWriter, PdfFileReader\n",
    "import io\n",
    "from reportlab.pdfgen import canvas\n",
    "from reportlab.lib.pagesizes import letter\n",
    "\n",
    "packet = io.BytesIO()\n",
    "\n",
    "canThree = canvas.Canvas(packet, pagesize=letter)\n",
    "canThree.drawString(415, 705, data.columns[16]) # Auftraggeber\n",
    "number = data.columns[13]+\" - \"+data.columns[14]+\" - \"+data.columns[15] #Zeichen Auftraggeber\n",
    "canThree.drawString(320, 705, number) # Zeichen Auftraggeber\n",
    "canThree.drawString(134, 565, data.columns[20]) # Aktenzeichen Patentanmeldung\n",
    "#Heutiges Datum\n",
    "# in deutsches Format umwandeln\n",
    "splittedDateToday = str(date.today()).split(\"-\")\n",
    "splittedDateToday.reverse()\n",
    "joinedDateToday = \".\".join(splittedDateToday)\n",
    "canThree.drawString(380, 45, \"München, den \" +joinedDateToday) # Ort, Datum\n",
    "\n",
    "# Nummer des laufendes Kontos fehlt\n",
    "# Betrag 685?\n",
    "# Betrag immer in richtige Zeile (4. Jahresgebühr, ....?)?\n",
    "\n",
    "# \"eventuelle Rückzahlungen...\"\n",
    "# X\n",
    "# Sachen wie PCT leer\n",
    "\n",
    "\n",
    "\n",
    "\n",
    "canThree.save()\n",
    "\n",
    "#move to the beginning of the StringIO buffer\n",
    "packet.seek(0)\n",
    "new_pdf = PdfFileReader(packet)\n",
    "# read your existing PDF\n",
    "existing_pdf = PdfFileReader(open(\"EPA-15.pdf\", \"rb\"))\n",
    "output = PdfFileWriter()\n",
    "# add the \"watermark\" (which is the new pdf) on the existing page\n",
    "page = existing_pdf.getPage(0)\n",
    "page.mergePage(new_pdf.getPage(0))\n",
    "output.addPage(page)\n",
    "# finally, write \"output\" to a real file\n",
    "outputStream = open(\"EPA-15_neu.pdf\", \"wb\")\n",
    "output.write(outputStream)\n",
    "outputStream.close()"
   ]
  }
 ],
 "metadata": {
  "kernelspec": {
   "display_name": "Python 3",
   "language": "python",
   "name": "python3"
  },
  "language_info": {
   "codemirror_mode": {
    "name": "ipython",
    "version": 3
   },
   "file_extension": ".py",
   "mimetype": "text/x-python",
   "name": "python",
   "nbconvert_exporter": "python",
   "pygments_lexer": "ipython3",
   "version": "3.8.3"
  }
 },
 "nbformat": 4,
 "nbformat_minor": 4
}
