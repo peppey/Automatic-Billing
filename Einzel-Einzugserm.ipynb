{
 "cells": [
  {
   "cell_type": "code",
   "execution_count": 1,
   "metadata": {},
   "outputs": [],
   "source": [
    "import pandas as pd\n",
    "data = pd.read_csv('PIA.asc', encoding='cp850')\n",
    "from datetime import date"
   ]
  },
  {
   "cell_type": "code",
   "execution_count": null,
   "metadata": {},
   "outputs": [],
   "source": [
    "# Leere Einträge auf \"\" setzen\n",
    "for i in range(len(data.columns)):\n",
    "    if \"Unnamed\" in data.columns[i]:\n",
    "        data.columns.values[i] = \"\"  \n",
    "        \n",
    "data.columns"
   ]
  },
  {
   "cell_type": "code",
   "execution_count": null,
   "metadata": {},
   "outputs": [],
   "source": [
    "from PyPDF2 import PdfFileWriter, PdfFileReader\n",
    "import io\n",
    "from reportlab.pdfgen import canvas\n",
    "from reportlab.lib.pagesizes import letter\n",
    "\n",
    "packet = io.BytesIO()\n",
    "\n",
    "canTwo = canvas.Canvas(packet, pagesize=letter)\n",
    "canTwo.drawString(210, 455, data.columns[16]) # Name Schutzrechtsinhaber\n",
    "number = data.columns[13]+\" - \"+data.columns[14]+\" - \"+data.columns[15] #Akte\n",
    "canTwo.drawString(460, 530, number) #Akte\n",
    "canTwo.drawString(260, 560, data.columns[21]) #Amtliches Kennzeichen\n",
    "canTwo.drawString(250, 366, data.columns[5]) # Jahresgebühr\n",
    "#### Wo ist der Betrag? ###\n",
    "# Hinweise auf Rückseite beachten!\n",
    "#### Gebührencode?\n",
    "\n",
    "splittedDateToday = str(date.today()).split(\"-\")\n",
    "splittedDateToday.reverse()\n",
    "joinedDateToday = \".\".join(splittedDateToday)\n",
    "canTwo.drawString(50, 110, \"München, den \" +joinedDateToday) # Ort, Datum\n",
    "\n",
    "\n",
    "canTwo.save()\n",
    "\n",
    "#move to the beginning of the StringIO buffer\n",
    "packet.seek(0)\n",
    "new_pdf = PdfFileReader(packet)\n",
    "# read your existing PDF\n",
    "existing_pdf = PdfFileReader(open(\"Einzel-Einzugsermaechtigung.pdf\", \"rb\"))\n",
    "output = PdfFileWriter()\n",
    "# add the \"watermark\" (which is the new pdf) on the existing page\n",
    "page = existing_pdf.getPage(0)\n",
    "page.mergePage(new_pdf.getPage(0))\n",
    "output.addPage(page)\n",
    "# finally, write \"output\" to a real file\n",
    "outputStream = open(\"Einzel-Einzugsermaechtigung_neu.pdf\", \"wb\")\n",
    "output.write(outputStream)\n",
    "outputStream.close()"
   ]
  }
 ],
 "metadata": {
  "kernelspec": {
   "display_name": "Python 3",
   "language": "python",
   "name": "python3"
  },
  "language_info": {
   "codemirror_mode": {
    "name": "ipython",
    "version": 3
   },
   "file_extension": ".py",
   "mimetype": "text/x-python",
   "name": "python",
   "nbconvert_exporter": "python",
   "pygments_lexer": "ipython3",
   "version": "3.8.3"
  }
 },
 "nbformat": 4,
 "nbformat_minor": 4
}
